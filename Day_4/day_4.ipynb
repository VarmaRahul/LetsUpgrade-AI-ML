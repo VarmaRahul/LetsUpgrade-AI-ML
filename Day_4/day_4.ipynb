{
 "cells": [
  {
   "cell_type": "raw",
   "metadata": {},
   "source": [
    "Research on whether addition, subtraction, multiplication, division, floor division and modulo\n",
    "operations be performed on complex numbers. Based on your study, implement a Python\n",
    "program to demonstrate these operations"
   ]
  },
  {
   "cell_type": "code",
   "execution_count": 12,
   "metadata": {},
   "outputs": [
    {
     "name": "stdout",
     "output_type": "stream",
     "text": [
      "add (8+11j)\n",
      "sub (2+3j)\n",
      "multiply (-13+41j)\n",
      "div (1.72+0.04j)\n"
     ]
    }
   ],
   "source": [
    "x=5+7j\n",
    "y=3+4j\n",
    "print(\"add\",x+y)\n",
    "print(\"sub\",x-y)\n",
    "print(\"multiply\",x*y)\n",
    "print(\"div\",x/y)\n",
    "# print(\"floor div\",x//y) TypeError: can't take floor of complex number."
   ]
  },
  {
   "cell_type": "raw",
   "metadata": {},
   "source": [
    "Research on range() functions and its parameters. Create a markdown cell and write in your own\n",
    "words (no copy-paste from google please) what you understand about it. Implement a small\n",
    "program of your choice on the same.\n"
   ]
  },
  {
   "cell_type": "markdown",
   "metadata": {},
   "source": [
    "The ___range___ function is in-build\n",
    "It takes 3 arguments --> range(start,end,step_size)\n",
    "\n",
    "range(1,10,2) will interate through numbers 1 to 9(excluding stop number) and step_size is 2\n",
    "\n",
    "Default start argument is 0 and step_size is 1"
   ]
  },
  {
   "cell_type": "raw",
   "metadata": {},
   "source": [
    " Consider two numbers. Perform their subtraction and if the result of subtraction is greater than\n",
    "25, print their multiplication result else print their division result.\n"
   ]
  },
  {
   "cell_type": "code",
   "execution_count": 7,
   "metadata": {},
   "outputs": [
    {
     "name": "stdout",
     "output_type": "stream",
     "text": [
      "Division 10.0\n"
     ]
    }
   ],
   "source": [
    "a=20\n",
    "b=10\n",
    "if b-a>25:\n",
    "    print(\"Multiplication\",a*b)\n",
    "else:\n",
    "    print(\"Division\",a/2)"
   ]
  },
  {
   "cell_type": "raw",
   "metadata": {},
   "source": [
    "Consider a list of 10 elements of integer values. If the number in the list is divisible by 2, print the\n",
    "result as \"square of that number minus 2\"."
   ]
  },
  {
   "cell_type": "code",
   "execution_count": 6,
   "metadata": {},
   "outputs": [
    {
     "name": "stdout",
     "output_type": "stream",
     "text": [
      "1022\n",
      "62\n",
      "254\n",
      "194\n",
      "98\n",
      "398\n"
     ]
    }
   ],
   "source": [
    "num = [5,17,32,8,16,14,25,10,20,3]\n",
    "for i in num:\n",
    "    if i%2==0:\n",
    "        print(i**2-2)"
   ]
  },
  {
   "cell_type": "raw",
   "metadata": {},
   "source": [
    "Consider a list of 10 elements. Print all the elements in the list which are greater than 7 when that\n",
    "number is divided 2."
   ]
  },
  {
   "cell_type": "code",
   "execution_count": 5,
   "metadata": {},
   "outputs": [
    {
     "name": "stdout",
     "output_type": "stream",
     "text": [
      "17\n",
      "32\n",
      "16\n",
      "25\n",
      "20\n"
     ]
    }
   ],
   "source": [
    "num = [5,17,32,8,16,14,25,10,20,3]\n",
    "for i in num:\n",
    "    if i/2>7:\n",
    "        print(i)"
   ]
  }
 ],
 "metadata": {
  "kernelspec": {
   "display_name": "Python 3",
   "language": "python",
   "name": "python3"
  },
  "language_info": {
   "codemirror_mode": {
    "name": "ipython",
    "version": 3
   },
   "file_extension": ".py",
   "mimetype": "text/x-python",
   "name": "python",
   "nbconvert_exporter": "python",
   "pygments_lexer": "ipython3",
   "version": "3.8.3"
  }
 },
 "nbformat": 4,
 "nbformat_minor": 4
}

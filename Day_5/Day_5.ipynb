{
 "cells": [
  {
   "cell_type": "raw",
   "metadata": {},
   "source": [
    "Question 1 :\n",
    "Write a Python program to find the first 20 non-even prime natural numbers."
   ]
  },
  {
   "cell_type": "code",
   "execution_count": 20,
   "metadata": {},
   "outputs": [
    {
     "name": "stdout",
     "output_type": "stream",
     "text": [
      "prime number 3\n",
      "prime number 5\n",
      "prime number 7\n",
      "prime number 11\n",
      "prime number 13\n",
      "prime number 17\n",
      "prime number 19\n",
      "prime number 23\n",
      "prime number 29\n",
      "prime number 31\n",
      "prime number 37\n",
      "prime number 41\n",
      "prime number 43\n",
      "prime number 47\n",
      "prime number 53\n",
      "prime number 59\n",
      "prime number 61\n",
      "prime number 67\n",
      "prime number 71\n",
      "prime number 73\n"
     ]
    }
   ],
   "source": [
    "count=0\n",
    "i=1\n",
    "while count!=20:\n",
    "    flag=0\n",
    "    i+=2\n",
    "    for x in range(2,i):\n",
    "        if i%x==0:\n",
    "            flag=1\n",
    "            break\n",
    "    if flag==0:\n",
    "        print(\"prime number\",i)\n",
    "        count+=1\n",
    "    "
   ]
  },
  {
   "cell_type": "raw",
   "metadata": {},
   "source": [
    "Question 2 :\n",
    "Write a Python program to implement 15 functions of string.\n"
   ]
  },
  {
   "cell_type": "code",
   "execution_count": 5,
   "metadata": {},
   "outputs": [
    {
     "name": "stdout",
     "output_type": "stream",
     "text": [
      "Machine Learning\n",
      "Machine Learning  \n",
      "  Machine Learning\n",
      "  machine learning  \n",
      "  machine learning  \n",
      "  MACHINE LEARNING  \n",
      "  Machine Learning  \n",
      "8\n",
      "False\n",
      "False\n",
      "False\n",
      "['Machine', 'Learning']\n",
      "  mACHINE lEARNING  \n",
      "False\n",
      "False\n",
      "  Michine Leirning  \n"
     ]
    }
   ],
   "source": [
    "s = \"  Machine Learning  \"\n",
    "print(s.strip(),s.lstrip(),s.rstrip(),s.capitalize(),s.lower(),s.upper(),s.title(),s.find('e'),s.isdigit(),\\\n",
    "      s.isalnum(),s.isalpha(),s.split(),s.swapcase(),s.startswith(\"M\"),s.endswith(\"g\"),s.replace(\"a\",\"i\"),sep=\"\\n\")"
   ]
  },
  {
   "cell_type": "raw",
   "metadata": {},
   "source": [
    "Question 3:\n",
    "Write a Python program to check if the given string is a Palindrome or Anagram or None of them.\n",
    "Display the message accordingly to the user.\n"
   ]
  },
  {
   "cell_type": "code",
   "execution_count": 6,
   "metadata": {},
   "outputs": [
    {
     "name": "stdout",
     "output_type": "stream",
     "text": [
      "Enter first string : malayalam\n",
      "Enter second string : lammalaya\n",
      "Entered strings are anagrams\n"
     ]
    }
   ],
   "source": [
    "str1=input(\"Enter first string : \")\n",
    "str2=input(\"Enter second string : \")\n",
    "if sorted(str1)==sorted(str2):\n",
    "    print(\"Entered strings are anagrams\")\n",
    "elif str1==str1[::-1]:\n",
    "    print(str1,\" is a palindrome\")\n",
    "else:\n",
    "    print(\"Neither anagram nor palindrome\")\n",
    "    \n"
   ]
  },
  {
   "cell_type": "raw",
   "metadata": {},
   "source": [
    "Question 4:\n",
    "Write a Python's user defined function that removes all the additional characters from the string\n",
    "and converts it finally to lower case using built-in lower(). eg: If the string is \"Dr. Darshan Ingle\n",
    "@AI-ML Trainer\", then the output be \"drdarshaningleaimltrainer\"."
   ]
  },
  {
   "cell_type": "code",
   "execution_count": 3,
   "metadata": {},
   "outputs": [
    {
     "name": "stdout",
     "output_type": "stream",
     "text": [
      "Enter a string: Rahul12 Varma__3@#$.\n",
      "rahulvarma\n"
     ]
    }
   ],
   "source": [
    "def check(string):\n",
    "    val=\"\"\n",
    "    for i in string:\n",
    "        if i.isalpha():\n",
    "            val+=i\n",
    "    return val.lower()\n",
    "\n",
    "take=input(\"Enter a string: \")\n",
    "print(check(take))\n",
    "    "
   ]
  }
 ],
 "metadata": {
  "kernelspec": {
   "display_name": "Python 3",
   "language": "python",
   "name": "python3"
  },
  "language_info": {
   "codemirror_mode": {
    "name": "ipython",
    "version": 3
   },
   "file_extension": ".py",
   "mimetype": "text/x-python",
   "name": "python",
   "nbconvert_exporter": "python",
   "pygments_lexer": "ipython3",
   "version": "3.8.3"
  }
 },
 "nbformat": 4,
 "nbformat_minor": 4
}
